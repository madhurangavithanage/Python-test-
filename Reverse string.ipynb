{
 "cells": [
  {
   "cell_type": "code",
   "execution_count": null,
   "metadata": {},
   "outputs": [],
   "source": [
    ":def reverse_string(input_string): \n",
    "return input_string[::-1]\n",
    " # Example usage: \n",
    "original_string = \"Hello, World!\"\n",
    " reversed_string = reverse_string(original_string) \n",
    "print(reversed_string) # Output: !dlroW ,olleH\n"
   ]
  }
 ],
 "metadata": {
  "language_info": {
   "name": "python"
  }
 },
 "nbformat": 4,
 "nbformat_minor": 2
}
