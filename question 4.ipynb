{
 "cells": [
  {
   "cell_type": "code",
   "execution_count": null,
   "metadata": {},
   "outputs": [],
   "source": [
    "def sort_dict_by_values(input_dict):\n",
    "    # Sort the dictionary by values and return a new dictionary\n",
    "    sorted_dict = dict(sorted(input_dict.items(), key=lambda item: item[1]))\n",
    "    return sorted_dict\n",
    "\n",
    "# Example usage:\n",
    "input_dict = {'apple': 5, 'banana': 2, 'cherry': 3, 'date': 1}\n",
    "sorted_dict = sort_dict_by_values(input_dict)\n",
    "print(sorted_dict)  # Output: {'date': 1, 'banana': 2, 'cherry': 3, 'apple': 5}\n",
    "\n"
   ]
  }
 ],
 "metadata": {
  "language_info": {
   "name": "python"
  }
 },
 "nbformat": 4,
 "nbformat_minor": 2
}
