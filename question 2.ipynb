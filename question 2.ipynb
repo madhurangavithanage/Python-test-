{
 "cells": [
  {
   "cell_type": "code",
   "execution_count": null,
   "metadata": {},
   "outputs": [],
   "source": [
    "def square_even_numbers(input_list):\n",
    "    return [x**2 for x in input_list if x % 2 == 0]\n",
    "\n",
    "# Example usage:\n",
    "numbers = [1, 2, 3, 4, 5, 6]\n",
    "squared_evens = square_even_numbers(numbers)\n",
    "print(squared_evens)  # Output: [4, 16, 36]\n",
    "\n"
   ]
  }
 ],
 "metadata": {
  "language_info": {
   "name": "python"
  }
 },
 "nbformat": 4,
 "nbformat_minor": 2
}
